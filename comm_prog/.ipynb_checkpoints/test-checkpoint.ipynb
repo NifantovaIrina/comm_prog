{
 "cells": [
  {
   "cell_type": "code",
   "execution_count": 2,
   "metadata": {},
   "outputs": [],
   "source": [
    "import pika"
   ]
  },
  {
   "cell_type": "markdown",
   "metadata": {},
   "source": [
    "ОТ ЛЕКТОРА ПО ПРОМПРОГЕ: \n",
    "\n",
    "Нужно сделать 4 контейнера, \n",
    "\n",
    "3 из них (consumer, rabbit, db) надо поднимать docker compose’ом, а producer - тоже через докер, но запускать вручную"
   ]
  },
  {
   "cell_type": "code",
   "execution_count": 12,
   "metadata": {},
   "outputs": [
    {
     "name": "stdout",
     "output_type": "stream",
     "text": [
      "Start sending...\n",
      "\n",
      " [x] Sent 'Hello World!'\n"
     ]
    }
   ],
   "source": [
    "#!/usr/bin/env python3\n",
    "import pika\n",
    "\n",
    "if __name__ == \"__main__\":\n",
    "\n",
    "    print(\"Start sending...\")\n",
    "    print()\n",
    "\n",
    "    connection = pika.BlockingConnection(pika.ConnectionParameters(host='localhost'))\n",
    "    pika.ConnectionParameters()\n",
    "\n",
    "    channel = connection.channel()\n",
    "\n",
    "    channel.queue_declare(queue='hello_2')\n",
    "\n",
    "    channel.basic_publish(exchange='',\n",
    "        routing_key='hello',\n",
    "        body='Hello World! :)')\n",
    "\n",
    "    print(\" [x] Sent 'Hello World!'\")\n",
    "\n",
    "    connection.close()"
   ]
  },
  {
   "cell_type": "code",
   "execution_count": 9,
   "metadata": {
    "collapsed": true
   },
   "outputs": [],
   "source": [
    "import pika\n",
    "\n",
    "connection = pika.BlockingConnection(pika.ConnectionParameters('localhost'))\n",
    "\n",
    "channel = connection.channel()\n",
    "\n",
    "channel.queue_declare(queue='hello')\n",
    "\n",
    "channel.basic_publish(exchange='',\n",
    "                      routing_key='hello',\n",
    "                      body='Hello World! <from jupter *_* >')\n",
    "\n",
    "\n",
    "connection.close()"
   ]
  }
 ],
 "metadata": {
  "kernelspec": {
   "display_name": "Python 3",
   "language": "python",
   "name": "python3"
  },
  "language_info": {
   "codemirror_mode": {
    "name": "ipython",
    "version": 3
   },
   "file_extension": ".py",
   "mimetype": "text/x-python",
   "name": "python",
   "nbconvert_exporter": "python",
   "pygments_lexer": "ipython3",
   "version": "3.6.1"
  }
 },
 "nbformat": 4,
 "nbformat_minor": 2
}
