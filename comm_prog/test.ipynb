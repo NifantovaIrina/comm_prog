{
 "cells": [
  {
   "cell_type": "code",
   "execution_count": 2,
   "metadata": {},
   "outputs": [],
   "source": [
    "import pika"
   ]
  },
  {
   "cell_type": "markdown",
   "metadata": {},
   "source": [
    "ОТ ЛЕКТОРА ПО ПРОМПРОГЕ: \n",
    "\n",
    "Нужно сделать 4 контейнера, \n",
    "\n",
    "3 из них (consumer, rabbit, db) надо поднимать docker compose’ом, а producer - тоже через докер, но запускать вручную"
   ]
  },
  {
   "cell_type": "code",
   "execution_count": 17,
   "metadata": {},
   "outputs": [
    {
     "ename": "TabError",
     "evalue": "inconsistent use of tabs and spaces in indentation (<ipython-input-17-bba46504b8f3>, line 19)",
     "output_type": "error",
     "traceback": [
      "\u001b[0;36m  File \u001b[0;32m\"<ipython-input-17-bba46504b8f3>\"\u001b[0;36m, line \u001b[0;32m19\u001b[0m\n\u001b[0;31m    print(flush=True)\u001b[0m\n\u001b[0m                     ^\u001b[0m\n\u001b[0;31mTabError\u001b[0m\u001b[0;31m:\u001b[0m inconsistent use of tabs and spaces in indentation\n"
     ]
    }
   ],
   "source": [
    "#!/usr/bin/env python\n",
    "import pika\n",
    "import time\n",
    "\n",
    "if __name__ == \"__main__\":\n",
    "\n",
    "\tprint(\"Start recieve...\")\n",
    "\tprint()\n",
    "\n",
    "\ttime.sleep(20)\n",
    "\n",
    "\tconnection = pika.BlockingConnection(pika.ConnectionParameters(host='queue'))\n",
    "\tchannel = connection.channel()\n",
    "\n",
    "\tchannel.queue_declare(queue='hello_2')\n",
    "\n",
    "\tdef callback(ch, method, properties, body):\n",
    "\t    print(\" [x] Received %r\" % body, flush=True)\n",
    "\t\n",
    "\n",
    "\tchannel.basic_consume(callback,\n",
    "\t\t              queue='hello_2',\n",
    "\t\t              no_ack=True)\n",
    "\n",
    "\tprint(' [*] Waiting for messages. To exit press CTRL+C')\n",
    "\tchannel.start_consuming()"
   ]
  },
  {
   "cell_type": "code",
   "execution_count": 9,
   "metadata": {
    "collapsed": true
   },
   "outputs": [],
   "source": [
    "import pika\n",
    "\n",
    "connection = pika.BlockingConnection(pika.ConnectionParameters('localhost'))\n",
    "\n",
    "channel = connection.channel()\n",
    "\n",
    "channel.queue_declare(queue='hello')\n",
    "\n",
    "channel.basic_publish(exchange='',\n",
    "                      routing_key='hello',\n",
    "                      body='Hello World! <from jupter *_* >')\n",
    "\n",
    "\n",
    "connection.close()"
   ]
  }
 ],
 "metadata": {
  "kernelspec": {
   "display_name": "Python 3",
   "language": "python",
   "name": "python3"
  },
  "language_info": {
   "codemirror_mode": {
    "name": "ipython",
    "version": 3
   },
   "file_extension": ".py",
   "mimetype": "text/x-python",
   "name": "python",
   "nbconvert_exporter": "python",
   "pygments_lexer": "ipython3",
   "version": "3.6.1"
  }
 },
 "nbformat": 4,
 "nbformat_minor": 2
}
